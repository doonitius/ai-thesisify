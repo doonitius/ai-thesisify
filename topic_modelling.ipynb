{
 "cells": [
  {
   "cell_type": "code",
   "execution_count": 748,
   "metadata": {},
   "outputs": [],
   "source": [
    "import pandas as pd\n",
    "from glob import glob, glob1"
   ]
  },
  {
   "cell_type": "code",
   "execution_count": 749,
   "metadata": {},
   "outputs": [
    {
     "name": "stderr",
     "output_type": "stream",
     "text": [
      "C:\\Users\\doonl\\AppData\\Local\\Temp\\ipykernel_68\\1399302844.py:14: FutureWarning: The frame.append method is deprecated and will be removed from pandas in a future version. Use pandas.concat instead.\n",
      "  data = data.append(\n",
      "C:\\Users\\doonl\\AppData\\Local\\Temp\\ipykernel_68\\1399302844.py:14: FutureWarning: The frame.append method is deprecated and will be removed from pandas in a future version. Use pandas.concat instead.\n",
      "  data = data.append(\n",
      "C:\\Users\\doonl\\AppData\\Local\\Temp\\ipykernel_68\\1399302844.py:14: FutureWarning: The frame.append method is deprecated and will be removed from pandas in a future version. Use pandas.concat instead.\n",
      "  data = data.append(\n",
      "C:\\Users\\doonl\\AppData\\Local\\Temp\\ipykernel_68\\1399302844.py:14: FutureWarning: The frame.append method is deprecated and will be removed from pandas in a future version. Use pandas.concat instead.\n",
      "  data = data.append(\n",
      "C:\\Users\\doonl\\AppData\\Local\\Temp\\ipykernel_68\\1399302844.py:14: FutureWarning: The frame.append method is deprecated and will be removed from pandas in a future version. Use pandas.concat instead.\n",
      "  data = data.append(\n",
      "C:\\Users\\doonl\\AppData\\Local\\Temp\\ipykernel_68\\1399302844.py:14: FutureWarning: The frame.append method is deprecated and will be removed from pandas in a future version. Use pandas.concat instead.\n",
      "  data = data.append(\n",
      "C:\\Users\\doonl\\AppData\\Local\\Temp\\ipykernel_68\\1399302844.py:14: FutureWarning: The frame.append method is deprecated and will be removed from pandas in a future version. Use pandas.concat instead.\n",
      "  data = data.append(\n",
      "C:\\Users\\doonl\\AppData\\Local\\Temp\\ipykernel_68\\1399302844.py:14: FutureWarning: The frame.append method is deprecated and will be removed from pandas in a future version. Use pandas.concat instead.\n",
      "  data = data.append(\n",
      "C:\\Users\\doonl\\AppData\\Local\\Temp\\ipykernel_68\\1399302844.py:14: FutureWarning: The frame.append method is deprecated and will be removed from pandas in a future version. Use pandas.concat instead.\n",
      "  data = data.append(\n",
      "C:\\Users\\doonl\\AppData\\Local\\Temp\\ipykernel_68\\1399302844.py:14: FutureWarning: The frame.append method is deprecated and will be removed from pandas in a future version. Use pandas.concat instead.\n",
      "  data = data.append(\n",
      "C:\\Users\\doonl\\AppData\\Local\\Temp\\ipykernel_68\\1399302844.py:14: FutureWarning: The frame.append method is deprecated and will be removed from pandas in a future version. Use pandas.concat instead.\n",
      "  data = data.append(\n",
      "C:\\Users\\doonl\\AppData\\Local\\Temp\\ipykernel_68\\1399302844.py:14: FutureWarning: The frame.append method is deprecated and will be removed from pandas in a future version. Use pandas.concat instead.\n",
      "  data = data.append(\n",
      "C:\\Users\\doonl\\AppData\\Local\\Temp\\ipykernel_68\\1399302844.py:14: FutureWarning: The frame.append method is deprecated and will be removed from pandas in a future version. Use pandas.concat instead.\n",
      "  data = data.append(\n",
      "C:\\Users\\doonl\\AppData\\Local\\Temp\\ipykernel_68\\1399302844.py:14: FutureWarning: The frame.append method is deprecated and will be removed from pandas in a future version. Use pandas.concat instead.\n",
      "  data = data.append(\n",
      "C:\\Users\\doonl\\AppData\\Local\\Temp\\ipykernel_68\\1399302844.py:14: FutureWarning: The frame.append method is deprecated and will be removed from pandas in a future version. Use pandas.concat instead.\n",
      "  data = data.append(\n",
      "C:\\Users\\doonl\\AppData\\Local\\Temp\\ipykernel_68\\1399302844.py:14: FutureWarning: The frame.append method is deprecated and will be removed from pandas in a future version. Use pandas.concat instead.\n",
      "  data = data.append(\n",
      "C:\\Users\\doonl\\AppData\\Local\\Temp\\ipykernel_68\\1399302844.py:14: FutureWarning: The frame.append method is deprecated and will be removed from pandas in a future version. Use pandas.concat instead.\n",
      "  data = data.append(\n",
      "C:\\Users\\doonl\\AppData\\Local\\Temp\\ipykernel_68\\1399302844.py:14: FutureWarning: The frame.append method is deprecated and will be removed from pandas in a future version. Use pandas.concat instead.\n",
      "  data = data.append(\n"
     ]
    },
    {
     "data": {
      "text/html": [
       "<div>\n",
       "<style scoped>\n",
       "    .dataframe tbody tr th:only-of-type {\n",
       "        vertical-align: middle;\n",
       "    }\n",
       "\n",
       "    .dataframe tbody tr th {\n",
       "        vertical-align: top;\n",
       "    }\n",
       "\n",
       "    .dataframe thead th {\n",
       "        text-align: right;\n",
       "    }\n",
       "</style>\n",
       "<table border=\"1\" class=\"dataframe\">\n",
       "  <thead>\n",
       "    <tr style=\"text-align: right;\">\n",
       "      <th></th>\n",
       "      <th>doc_id</th>\n",
       "      <th>document</th>\n",
       "    </tr>\n",
       "  </thead>\n",
       "  <tbody>\n",
       "    <tr>\n",
       "      <th>0</th>\n",
       "      <td>01</td>\n",
       "      <td>In the logistic management, the cost reduction...</td>\n",
       "    </tr>\n",
       "    <tr>\n",
       "      <th>1</th>\n",
       "      <td>02</td>\n",
       "      <td>Machine learning and predictive modeling have ...</td>\n",
       "    </tr>\n",
       "    <tr>\n",
       "      <th>2</th>\n",
       "      <td>03</td>\n",
       "      <td>Resource estimation is a technique that has ma...</td>\n",
       "    </tr>\n",
       "    <tr>\n",
       "      <th>3</th>\n",
       "      <td>04</td>\n",
       "      <td>Due to the emerging of Long Short-Term Memory ...</td>\n",
       "    </tr>\n",
       "    <tr>\n",
       "      <th>4</th>\n",
       "      <td>05</td>\n",
       "      <td>Since the spread of Coronavirus disease or Cov...</td>\n",
       "    </tr>\n",
       "    <tr>\n",
       "      <th>5</th>\n",
       "      <td>06</td>\n",
       "      <td>This thesis proposed a speech production acqui...</td>\n",
       "    </tr>\n",
       "    <tr>\n",
       "      <th>6</th>\n",
       "      <td>07</td>\n",
       "      <td>In recent studies, many NLP tasks could gain b...</td>\n",
       "    </tr>\n",
       "    <tr>\n",
       "      <th>7</th>\n",
       "      <td>08</td>\n",
       "      <td>The number of documents in a dataset available...</td>\n",
       "    </tr>\n",
       "    <tr>\n",
       "      <th>8</th>\n",
       "      <td>09</td>\n",
       "      <td>Understanding and interpretation of legislativ...</td>\n",
       "    </tr>\n",
       "    <tr>\n",
       "      <th>9</th>\n",
       "      <td>10</td>\n",
       "      <td>Word segmentation is an important pre-processi...</td>\n",
       "    </tr>\n",
       "    <tr>\n",
       "      <th>10</th>\n",
       "      <td>11</td>\n",
       "      <td>Loss estimation is considerably significant fo...</td>\n",
       "    </tr>\n",
       "    <tr>\n",
       "      <th>11</th>\n",
       "      <td>12</td>\n",
       "      <td>This thesis  presents a computational study on...</td>\n",
       "    </tr>\n",
       "    <tr>\n",
       "      <th>12</th>\n",
       "      <td>13</td>\n",
       "      <td>The financial problem is a challenging task fo...</td>\n",
       "    </tr>\n",
       "    <tr>\n",
       "      <th>13</th>\n",
       "      <td>14</td>\n",
       "      <td>Since a classical computer has a limitation to...</td>\n",
       "    </tr>\n",
       "    <tr>\n",
       "      <th>14</th>\n",
       "      <td>15</td>\n",
       "      <td>Hyperparameter Tuning chooses optimal hyperpar...</td>\n",
       "    </tr>\n",
       "    <tr>\n",
       "      <th>15</th>\n",
       "      <td>16</td>\n",
       "      <td>The honeybee is a social insect that communica...</td>\n",
       "    </tr>\n",
       "    <tr>\n",
       "      <th>16</th>\n",
       "      <td>17</td>\n",
       "      <td>System logs contain the complete information o...</td>\n",
       "    </tr>\n",
       "    <tr>\n",
       "      <th>17</th>\n",
       "      <td>18</td>\n",
       "      <td>Handling an imbalanced class problem is a chal...</td>\n",
       "    </tr>\n",
       "  </tbody>\n",
       "</table>\n",
       "</div>"
      ],
      "text/plain": [
       "   doc_id                                           document\n",
       "0      01  In the logistic management, the cost reduction...\n",
       "1      02  Machine learning and predictive modeling have ...\n",
       "2      03  Resource estimation is a technique that has ma...\n",
       "3      04  Due to the emerging of Long Short-Term Memory ...\n",
       "4      05  Since the spread of Coronavirus disease or Cov...\n",
       "5      06  This thesis proposed a speech production acqui...\n",
       "6      07  In recent studies, many NLP tasks could gain b...\n",
       "7      08  The number of documents in a dataset available...\n",
       "8      09  Understanding and interpretation of legislativ...\n",
       "9      10  Word segmentation is an important pre-processi...\n",
       "10     11  Loss estimation is considerably significant fo...\n",
       "11     12  This thesis  presents a computational study on...\n",
       "12     13  The financial problem is a challenging task fo...\n",
       "13     14  Since a classical computer has a limitation to...\n",
       "14     15  Hyperparameter Tuning chooses optimal hyperpar...\n",
       "15     16  The honeybee is a social insect that communica...\n",
       "16     17  System logs contain the complete information o...\n",
       "17     18  Handling an imbalanced class problem is a chal..."
      ]
     },
     "metadata": {},
     "output_type": "display_data"
    }
   ],
   "source": [
    "path = './txtFile/'\n",
    "\n",
    "data = pd.DataFrame(columns=['doc_id', 'document'])\n",
    "for i in glob1(path, '*'):\n",
    "    with open(path + i, 'r', encoding='utf8') as f:\n",
    "        doc_line = []\n",
    "        doc_id = i.split('.')[-2]\n",
    "\n",
    "        for j in f:\n",
    "            line = j.strip()\n",
    "            doc_line.append(line)\n",
    "        doc_details = ' '.join(doc_line)\n",
    "\n",
    "        data = data.append(\n",
    "            {\"doc_id\": doc_id, \"document\": doc_details}, ignore_index=True)\n",
    "    f.close()\n",
    "\n",
    "display(data)\n"
   ]
  },
  {
   "cell_type": "code",
   "execution_count": 750,
   "metadata": {},
   "outputs": [
    {
     "data": {
      "text/html": [
       "<div>\n",
       "<style scoped>\n",
       "    .dataframe tbody tr th:only-of-type {\n",
       "        vertical-align: middle;\n",
       "    }\n",
       "\n",
       "    .dataframe tbody tr th {\n",
       "        vertical-align: top;\n",
       "    }\n",
       "\n",
       "    .dataframe thead th {\n",
       "        text-align: right;\n",
       "    }\n",
       "</style>\n",
       "<table border=\"1\" class=\"dataframe\">\n",
       "  <thead>\n",
       "    <tr style=\"text-align: right;\">\n",
       "      <th></th>\n",
       "      <th>doc_id</th>\n",
       "      <th>document</th>\n",
       "    </tr>\n",
       "  </thead>\n",
       "  <tbody>\n",
       "    <tr>\n",
       "      <th>0</th>\n",
       "      <td>01</td>\n",
       "      <td>In the logistic management, the cost reduction...</td>\n",
       "    </tr>\n",
       "    <tr>\n",
       "      <th>1</th>\n",
       "      <td>02</td>\n",
       "      <td>Machine learning and predictive modeling have ...</td>\n",
       "    </tr>\n",
       "    <tr>\n",
       "      <th>2</th>\n",
       "      <td>03</td>\n",
       "      <td>Resource estimation is a technique that has ma...</td>\n",
       "    </tr>\n",
       "    <tr>\n",
       "      <th>3</th>\n",
       "      <td>04</td>\n",
       "      <td>Due to the emerging of Long Short-Term Memory ...</td>\n",
       "    </tr>\n",
       "    <tr>\n",
       "      <th>4</th>\n",
       "      <td>05</td>\n",
       "      <td>Since the spread of Coronavirus disease or Cov...</td>\n",
       "    </tr>\n",
       "  </tbody>\n",
       "</table>\n",
       "</div>"
      ],
      "text/plain": [
       "  doc_id                                           document\n",
       "0     01  In the logistic management, the cost reduction...\n",
       "1     02  Machine learning and predictive modeling have ...\n",
       "2     03  Resource estimation is a technique that has ma...\n",
       "3     04  Due to the emerging of Long Short-Term Memory ...\n",
       "4     05  Since the spread of Coronavirus disease or Cov..."
      ]
     },
     "execution_count": 750,
     "metadata": {},
     "output_type": "execute_result"
    }
   ],
   "source": [
    "data.head()"
   ]
  },
  {
   "cell_type": "code",
   "execution_count": 751,
   "metadata": {},
   "outputs": [
    {
     "data": {
      "text/plain": [
       "18"
      ]
     },
     "execution_count": 751,
     "metadata": {},
     "output_type": "execute_result"
    }
   ],
   "source": [
    "len(data)"
   ]
  },
  {
   "cell_type": "code",
   "execution_count": 752,
   "metadata": {},
   "outputs": [
    {
     "data": {
      "text/plain": [
       "'Handling an imbalanced class problem is a challenging task in real-world applications. This problem affects various prediction models that predict only the majority classes and fail to identify the minority classes because of the skewed data. The oversampling technique is one of the exciting solutions that handles the imbalanced class problem. However, several existing oversampling methods do not consider the distribution of the target variable and cause an overlapping class problem. Therefore, this study introduces a new oversampling technique, namely Synthetic Minority Based on Probabilistic Distribution (SyMProD), to handle skewed datasets. Our method normalizes data using a Z-score and removes noisy data. Then, the proposed method selects minority samples based on the probability distribution of both classes. The synthetic instances are generated from the selected points and several minority nearest neighbors. Our technique aims to create synthetic instances that cover the minority class distribution, avoid the noise generation, and reduce the possibilities of overlapping classes and overgeneralization problems. Our proposed technique is validated using 17 benchmark datasets and three classifiers. Moreover, this study compares the performance of the method with other eight conventional oversampling algorithms. The empirical results show that our method achieves better performance than other oversampling techniques.'"
      ]
     },
     "execution_count": 752,
     "metadata": {},
     "output_type": "execute_result"
    }
   ],
   "source": [
    "data['document'][17]"
   ]
  },
  {
   "cell_type": "code",
   "execution_count": 753,
   "metadata": {},
   "outputs": [],
   "source": [
    "from sklearn.feature_extraction.text import CountVectorizer\n",
    "import nltk\n",
    "from nltk.tokenize import word_tokenize\n",
    "from nltk.stem import PorterStemmer\n",
    "import re\n",
    "import string\n",
    "# s = set(string.punctuation)          # !\"#$%&'()*+,-./:;<=>?@[\\]^_`{|}~\n"
   ]
  },
  {
   "cell_type": "code",
   "execution_count": 754,
   "metadata": {},
   "outputs": [],
   "source": [
    "def tok(text):\n",
    "    # s = set(string.punctuation)          # !\"#$%&'()*+,-./:;<=>?@[\\]^_`{|}~\n",
    "    tokens =  word_tokenize(text)\n",
    "    tokens = list(filter(lambda token: token not in string.punctuation, tokens))\n",
    "    return tokens\n"
   ]
  },
  {
   "cell_type": "code",
   "execution_count": 755,
   "metadata": {},
   "outputs": [],
   "source": [
    "porter_stemmer = PorterStemmer()\n",
    "\n",
    "def text_preprocessor(text):\n",
    "\n",
    "    text = text.lower()\n",
    "    text = re.sub(\"\\\\W\", \" \", text)  # remove special chars\n",
    "    text = re.sub(\"\\\\s+(in|the|all|for|and|on)\\\\s+\", \" _connector_ \", text)  # normalize certain words\n",
    "\n",
    "    # stem words\n",
    "    words = re.split(\"\\\\s+\", text)\n",
    "    stemmed_words = [porter_stemmer.stem(word=word) for word in words]\n",
    "    return ' '.join(stemmed_words)\n"
   ]
  },
  {
   "cell_type": "code",
   "execution_count": 756,
   "metadata": {},
   "outputs": [],
   "source": [
    "cv = CountVectorizer(max_df = 0.9, min_df = 2, stop_words = 'english', tokenizer = tok, preprocessor = text_preprocessor)"
   ]
  },
  {
   "cell_type": "code",
   "execution_count": 757,
   "metadata": {},
   "outputs": [
    {
     "name": "stderr",
     "output_type": "stream",
     "text": [
      "C:\\Users\\doonl\\AppData\\Roaming\\Python\\Python310\\site-packages\\sklearn\\feature_extraction\\text.py:404: UserWarning: Your stop_words may be inconsistent with your preprocessing. Tokenizing the stop words generated tokens ['abov', 'afterward', 'alon', 'alreadi', 'alway', 'ani', 'anoth', 'anyon', 'anyth', 'anywher', 'becam', 'becaus', 'becom', 'befor', 'besid', 'cri', 'describ', 'dure', 'els', 'elsewher', 'empti', 'everi', 'everyon', 'everyth', 'everywher', 'fifti', 'formerli', 'forti', 'ha', 'henc', 'hereaft', 'herebi', 'hi', 'howev', 'hundr', 'inde', 'latterli', 'mani', 'meanwhil', 'moreov', 'mostli', 'nobodi', 'noon', 'noth', 'nowher', 'onc', 'onli', 'otherwis', 'ourselv', 'perhap', 'pleas', 'seriou', 'sever', 'sinc', 'sincer', 'sixti', 'someon', 'someth', 'sometim', 'somewher', 'themselv', 'thenc', 'thereaft', 'therebi', 'therefor', 'thi', 'thu', 'togeth', 'twelv', 'twenti', 'veri', 'wa', 'whatev', 'whenc', 'whenev', 'wherea', 'whereaft', 'wherebi', 'wherev', 'whi', 'yourselv'] not in stop_words.\n",
      "  warnings.warn(\n"
     ]
    }
   ],
   "source": [
    "dtm = cv.fit_transform(data['document'])"
   ]
  },
  {
   "cell_type": "code",
   "execution_count": 758,
   "metadata": {},
   "outputs": [
    {
     "data": {
      "text/plain": [
       "<18x292 sparse matrix of type '<class 'numpy.int64'>'\n",
       "\twith 969 stored elements in Compressed Sparse Row format>"
      ]
     },
     "execution_count": 758,
     "metadata": {},
     "output_type": "execute_result"
    }
   ],
   "source": [
    "dtm"
   ]
  },
  {
   "cell_type": "code",
   "execution_count": 759,
   "metadata": {},
   "outputs": [],
   "source": [
    "from sklearn.decomposition import LatentDirichletAllocation"
   ]
  },
  {
   "cell_type": "code",
   "execution_count": 760,
   "metadata": {},
   "outputs": [],
   "source": [
    "LDA = LatentDirichletAllocation(n_components = 3, random_state=15)"
   ]
  },
  {
   "cell_type": "code",
   "execution_count": 761,
   "metadata": {},
   "outputs": [
    {
     "data": {
      "text/html": [
       "<style>#sk-container-id-20 {color: black;background-color: white;}#sk-container-id-20 pre{padding: 0;}#sk-container-id-20 div.sk-toggleable {background-color: white;}#sk-container-id-20 label.sk-toggleable__label {cursor: pointer;display: block;width: 100%;margin-bottom: 0;padding: 0.3em;box-sizing: border-box;text-align: center;}#sk-container-id-20 label.sk-toggleable__label-arrow:before {content: \"▸\";float: left;margin-right: 0.25em;color: #696969;}#sk-container-id-20 label.sk-toggleable__label-arrow:hover:before {color: black;}#sk-container-id-20 div.sk-estimator:hover label.sk-toggleable__label-arrow:before {color: black;}#sk-container-id-20 div.sk-toggleable__content {max-height: 0;max-width: 0;overflow: hidden;text-align: left;background-color: #f0f8ff;}#sk-container-id-20 div.sk-toggleable__content pre {margin: 0.2em;color: black;border-radius: 0.25em;background-color: #f0f8ff;}#sk-container-id-20 input.sk-toggleable__control:checked~div.sk-toggleable__content {max-height: 200px;max-width: 100%;overflow: auto;}#sk-container-id-20 input.sk-toggleable__control:checked~label.sk-toggleable__label-arrow:before {content: \"▾\";}#sk-container-id-20 div.sk-estimator input.sk-toggleable__control:checked~label.sk-toggleable__label {background-color: #d4ebff;}#sk-container-id-20 div.sk-label input.sk-toggleable__control:checked~label.sk-toggleable__label {background-color: #d4ebff;}#sk-container-id-20 input.sk-hidden--visually {border: 0;clip: rect(1px 1px 1px 1px);clip: rect(1px, 1px, 1px, 1px);height: 1px;margin: -1px;overflow: hidden;padding: 0;position: absolute;width: 1px;}#sk-container-id-20 div.sk-estimator {font-family: monospace;background-color: #f0f8ff;border: 1px dotted black;border-radius: 0.25em;box-sizing: border-box;margin-bottom: 0.5em;}#sk-container-id-20 div.sk-estimator:hover {background-color: #d4ebff;}#sk-container-id-20 div.sk-parallel-item::after {content: \"\";width: 100%;border-bottom: 1px solid gray;flex-grow: 1;}#sk-container-id-20 div.sk-label:hover label.sk-toggleable__label {background-color: #d4ebff;}#sk-container-id-20 div.sk-serial::before {content: \"\";position: absolute;border-left: 1px solid gray;box-sizing: border-box;top: 0;bottom: 0;left: 50%;z-index: 0;}#sk-container-id-20 div.sk-serial {display: flex;flex-direction: column;align-items: center;background-color: white;padding-right: 0.2em;padding-left: 0.2em;position: relative;}#sk-container-id-20 div.sk-item {position: relative;z-index: 1;}#sk-container-id-20 div.sk-parallel {display: flex;align-items: stretch;justify-content: center;background-color: white;position: relative;}#sk-container-id-20 div.sk-item::before, #sk-container-id-20 div.sk-parallel-item::before {content: \"\";position: absolute;border-left: 1px solid gray;box-sizing: border-box;top: 0;bottom: 0;left: 50%;z-index: -1;}#sk-container-id-20 div.sk-parallel-item {display: flex;flex-direction: column;z-index: 1;position: relative;background-color: white;}#sk-container-id-20 div.sk-parallel-item:first-child::after {align-self: flex-end;width: 50%;}#sk-container-id-20 div.sk-parallel-item:last-child::after {align-self: flex-start;width: 50%;}#sk-container-id-20 div.sk-parallel-item:only-child::after {width: 0;}#sk-container-id-20 div.sk-dashed-wrapped {border: 1px dashed gray;margin: 0 0.4em 0.5em 0.4em;box-sizing: border-box;padding-bottom: 0.4em;background-color: white;}#sk-container-id-20 div.sk-label label {font-family: monospace;font-weight: bold;display: inline-block;line-height: 1.2em;}#sk-container-id-20 div.sk-label-container {text-align: center;}#sk-container-id-20 div.sk-container {/* jupyter's `normalize.less` sets `[hidden] { display: none; }` but bootstrap.min.css set `[hidden] { display: none !important; }` so we also need the `!important` here to be able to override the default hidden behavior on the sphinx rendered scikit-learn.org. See: https://github.com/scikit-learn/scikit-learn/issues/21755 */display: inline-block !important;position: relative;}#sk-container-id-20 div.sk-text-repr-fallback {display: none;}</style><div id=\"sk-container-id-20\" class=\"sk-top-container\"><div class=\"sk-text-repr-fallback\"><pre>LatentDirichletAllocation(n_components=3, random_state=15)</pre><b>In a Jupyter environment, please rerun this cell to show the HTML representation or trust the notebook. <br />On GitHub, the HTML representation is unable to render, please try loading this page with nbviewer.org.</b></div><div class=\"sk-container\" hidden><div class=\"sk-item\"><div class=\"sk-estimator sk-toggleable\"><input class=\"sk-toggleable__control sk-hidden--visually\" id=\"sk-estimator-id-20\" type=\"checkbox\" checked><label for=\"sk-estimator-id-20\" class=\"sk-toggleable__label sk-toggleable__label-arrow\">LatentDirichletAllocation</label><div class=\"sk-toggleable__content\"><pre>LatentDirichletAllocation(n_components=3, random_state=15)</pre></div></div></div></div></div>"
      ],
      "text/plain": [
       "LatentDirichletAllocation(n_components=3, random_state=15)"
      ]
     },
     "execution_count": 761,
     "metadata": {},
     "output_type": "execute_result"
    }
   ],
   "source": [
    "LDA.fit(dtm)"
   ]
  },
  {
   "cell_type": "code",
   "execution_count": 762,
   "metadata": {},
   "outputs": [],
   "source": [
    "#Grab the vocab of words"
   ]
  },
  {
   "cell_type": "code",
   "execution_count": 763,
   "metadata": {},
   "outputs": [
    {
     "name": "stderr",
     "output_type": "stream",
     "text": [
      "C:\\Users\\doonl\\AppData\\Roaming\\Python\\Python310\\site-packages\\sklearn\\utils\\deprecation.py:87: FutureWarning: Function get_feature_names is deprecated; get_feature_names is deprecated in 1.0 and will be removed in 1.2. Please use get_feature_names_out instead.\n",
      "  warnings.warn(msg, category=FutureWarning)\n"
     ]
    },
    {
     "data": {
      "text/plain": [
       "292"
      ]
     },
     "execution_count": 763,
     "metadata": {},
     "output_type": "execute_result"
    }
   ],
   "source": [
    "len(cv.get_feature_names())"
   ]
  },
  {
   "cell_type": "code",
   "execution_count": 764,
   "metadata": {},
   "outputs": [
    {
     "data": {
      "text/plain": [
       "list"
      ]
     },
     "execution_count": 764,
     "metadata": {},
     "output_type": "execute_result"
    }
   ],
   "source": [
    "type(cv.get_feature_names())"
   ]
  },
  {
   "cell_type": "code",
   "execution_count": 765,
   "metadata": {},
   "outputs": [
    {
     "data": {
      "text/plain": [
       "'effect'"
      ]
     },
     "execution_count": 765,
     "metadata": {},
     "output_type": "execute_result"
    }
   ],
   "source": [
    "import random\n",
    "\n",
    "random_word_id = random.randint(0, len(cv.get_feature_names()))\n",
    "cv.get_feature_names()[random_word_id]"
   ]
  },
  {
   "cell_type": "code",
   "execution_count": 766,
   "metadata": {},
   "outputs": [
    {
     "data": {
      "text/plain": [
       "3"
      ]
     },
     "execution_count": 766,
     "metadata": {},
     "output_type": "execute_result"
    }
   ],
   "source": [
    "#Grab the topics\n",
    "len(LDA.components_)"
   ]
  },
  {
   "cell_type": "code",
   "execution_count": 767,
   "metadata": {},
   "outputs": [
    {
     "data": {
      "text/plain": [
       "numpy.ndarray"
      ]
     },
     "execution_count": 767,
     "metadata": {},
     "output_type": "execute_result"
    }
   ],
   "source": [
    "type(LDA.components_)"
   ]
  },
  {
   "cell_type": "code",
   "execution_count": 768,
   "metadata": {},
   "outputs": [
    {
     "data": {
      "text/plain": [
       "(3, 292)"
      ]
     },
     "execution_count": 768,
     "metadata": {},
     "output_type": "execute_result"
    }
   ],
   "source": [
    "LDA.components_.shape"
   ]
  },
  {
   "cell_type": "code",
   "execution_count": 769,
   "metadata": {},
   "outputs": [
    {
     "data": {
      "text/plain": [
       "array([[ 0.3334385 ,  0.33337102,  0.33338235,  0.35714967,  0.33344134,\n",
       "         0.33343062,  3.31026974,  0.33338235,  0.33342579,  4.3367053 ,\n",
       "         0.33338361,  0.41673597,  1.33363132,  1.33478845,  2.33549205,\n",
       "         2.29201097,  9.08559528,  0.3333857 ,  0.33350906,  0.33338881,\n",
       "         1.33328252,  0.33338569,  0.4193286 ,  0.33879538,  1.33616147,\n",
       "         2.65487446,  2.33409355,  0.33338887,  1.33366972,  8.13704362,\n",
       "         1.33364464,  3.31027039,  4.33328657,  3.33565948,  1.33399347,\n",
       "         4.34549833,  1.33140792,  0.33336942,  0.38257051,  0.33340514,\n",
       "         0.33340901,  0.33338345,  2.29209797,  0.3333903 ,  1.32947316,\n",
       "         3.33328531,  2.33328417,  0.33343225,  1.3343063 ,  1.33471542,\n",
       "         0.40751451,  2.61261915,  1.3332631 ,  1.32527532,  0.33341957,\n",
       "         0.3333955 ,  0.33338055,  2.33694105,  1.33473448,  1.33400803,\n",
       "         0.33341452,  1.33280773,  1.33389069,  0.33338204,  1.33419945,\n",
       "         1.33339333,  0.33342164,  0.33341928,  5.33139993,  4.33528211,\n",
       "         0.41797018,  1.33394164,  1.59680201,  2.33399123,  0.33338249,\n",
       "         0.3334195 ,  0.33337854,  0.33338961,  0.33339627,  0.33346536,\n",
       "         4.33985767,  1.33349577,  1.33397788,  4.34106836,  1.33397787,\n",
       "         0.33340355,  1.33467482,  0.33341496,  0.33343146,  1.33411216,\n",
       "         0.35723156,  0.3333812 ,  0.4194114 ,  0.33347164,  2.29206337,\n",
       "         0.34112924,  0.33346845,  0.33337433,  0.33340433,  0.33338961,\n",
       "         0.33342191,  0.3476271 ,  1.3336913 ,  0.33341388,  1.33471542,\n",
       "         3.02325163,  0.33338471,  1.33207602,  0.33343487,  1.32913542,\n",
       "         1.33465652,  1.33306324,  0.33343755,  3.24533756,  0.33340663,\n",
       "         1.33398468,  0.33338961,  3.3372022 ,  0.35720999,  2.33654237,\n",
       "         3.33907691,  1.33415443,  0.33338481,  3.33328942,  2.33279128,\n",
       "         4.33328859,  0.33346394,  0.33348826,  2.67826479,  1.33310817,\n",
       "         1.33406173,  0.33346873,  0.33346813,  2.33476613,  0.33340583,\n",
       "         0.33342879,  1.33526468,  1.33180839,  1.33348959,  0.3333805 ,\n",
       "         0.33338961,  1.33416829,  0.33340246,  1.33314556,  2.33482202,\n",
       "         1.33473568,  7.14148064,  0.33337386,  0.33338063,  0.33344807,\n",
       "         0.33337905,  0.33338265,  0.33337468,  0.33341695,  0.3333827 ,\n",
       "         0.33339902,  5.3340767 ,  0.33348825,  2.33328839,  0.34474138,\n",
       "         3.12300479,  0.33340559,  0.33337533,  0.33341581, 12.32589902,\n",
       "         0.33342349, 10.33613065,  2.33333681,  3.33495577,  0.33337986,\n",
       "         0.33343851,  2.499185  ,  2.95373433,  1.33147122,  1.33149669,\n",
       "         1.33427293,  2.33469435,  0.35714867,  0.33338961,  2.33381955,\n",
       "         1.3335343 ,  0.33337986,  1.33363132,  2.33539783,  0.33345802,\n",
       "         9.23304449,  1.33327647,  0.33338345,  1.33394164,  0.33339058,\n",
       "         1.33363843,  2.33461766,  1.33478845,  7.3332905 ,  0.33346091,\n",
       "         0.33337822,  7.89021707,  0.33338345,  2.33328839,  0.3334688 ,\n",
       "         2.33445847,  1.33318964,  0.33347135,  1.33362168,  3.88320627,\n",
       "         0.33341208,  0.36457124,  6.93024388,  5.34036711,  0.33338961,\n",
       "         0.33339261,  5.35945865,  1.3331299 ,  0.33350906,  4.33556973,\n",
       "         1.33365631,  0.33342762,  0.33346801,  1.33350033,  0.33338833,\n",
       "         0.33338283,  2.28802908,  0.33348347,  0.33337872,  2.33700939,\n",
       "         0.34581782,  0.33342882,  5.16321745,  0.33338951,  0.34357531,\n",
       "         2.29388419,  0.33346664,  0.33345685,  1.33461751,  3.3350095 ,\n",
       "         5.34698875,  5.32095557,  0.3334718 ,  0.33341496,  0.33343834,\n",
       "         7.34646111,  0.33346643,  2.33470185,  0.33343217,  1.33271069,\n",
       "         3.31026615,  0.3333827 ,  0.33342158,  0.33345637,  2.33767977,\n",
       "         0.33346165,  0.33337414,  0.33340901,  0.33336911,  1.33363132,\n",
       "         0.33347242,  0.41712421,  5.31642014,  3.33400592,  1.33170783,\n",
       "         1.46954416,  9.85347557,  0.33341476,  1.33610269,  0.33338032,\n",
       "         0.33344199,  1.33394807,  1.33267429,  0.33337986,  4.33845081,\n",
       "         0.33343611,  2.33328489,  2.33492699,  1.33398777,  2.33328701,\n",
       "         9.33329178,  0.33344592,  0.429034  ,  0.3333805 ,  0.3333805 ,\n",
       "         5.11556685,  1.93475988,  2.33467398,  1.33407905,  2.33808795,\n",
       "         1.33470415,  0.33348536,  2.94331376,  2.29190566,  0.33347544,\n",
       "         0.35137437,  1.33316562],\n",
       "       [ 1.33296333,  2.33326703,  4.32735578,  0.33337499,  3.11225099,\n",
       "         1.71300356,  0.33336816,  4.32735578,  1.50039034,  0.33338561,\n",
       "         4.33324528,  1.33383863,  1.33297565,  0.33342189,  1.33110304,\n",
       "         0.33337674,  4.86512816,  0.33803948,  2.0585425 ,  9.33322602,\n",
       "         2.32933265,  0.33730104,  1.33273692,  8.20283252,  1.33237237,\n",
       "         2.04382127,  3.33250499,  4.3293804 ,  2.14794617,  1.76269503,\n",
       "         0.33338988,  0.33336946,  0.33335517,  0.33338552,  2.33260431,\n",
       "         3.20626521,  6.33394425,  3.33326992,  0.33338128,  2.33319849,\n",
       "         3.3306501 ,  0.33729913,  0.33337875,  0.33337283,  0.34392184,\n",
       "         0.33335611,  0.33335793,  1.33250966,  3.21682011,  1.33184019,\n",
       "         3.33533224,  4.34529603,  4.23362295,  3.91508326,  5.26152207,\n",
       "         2.33323567,  2.33324367,  0.3334233 ,  0.36867678,  1.33258547,\n",
       "         1.33331968,  3.33556495,  1.33312852,  5.33324519,  2.33239952,\n",
       "         0.33959449,  1.13169138,  3.33319156, 13.35912657, 12.28806621,\n",
       "         1.33346883,  1.32378529,  2.33140256,  0.33338266,  0.33860337,\n",
       "         1.41160695,  0.33523718,  0.33956942,  0.33337641,  1.33174801,\n",
       "         2.51142046,  0.33337885,  0.3453747 ,  0.36831428,  0.34537466,\n",
       "         2.32920828,  1.33191762,  1.33334027,  4.26236246,  1.33248529,\n",
       "         1.33329321,  0.33729722,  4.33690124,  1.33290842,  0.33337875,\n",
       "         0.93966297,  1.33209138,  0.33670268,  4.45932266,  0.33956942,\n",
       "         9.32221654,  0.33673121,  0.33338869,  2.50024031,  1.33184019,\n",
       "         1.52041927,  4.33324325,  4.32863154,  1.5125324 ,  9.33745838,\n",
       "         0.36905944,  0.3386256 ,  2.33204196,  0.33338374,  2.33321624,\n",
       "         0.34537289,  0.33956942,  4.32940011,  2.33205182,  5.14689795,\n",
       "         1.32752124,  0.33341815,  3.333234  ,  0.33335324,  4.73306929,\n",
       "         0.3333559 ,  1.33277384,  2.01018313,  1.38045036,  2.32951028,\n",
       "         0.34537187,  2.14968433,  1.33073341,  2.33018799,  2.33319033,\n",
       "         2.33311499,  2.33425532,  5.2754164 ,  0.33338319,  2.32925979,\n",
       "         0.33956942,  2.33242683,  0.36233412,  1.44516706,  2.33335068,\n",
       "         0.36881313,  2.32421332,  7.33326006,  0.33624377,  1.72563649,\n",
       "         0.33860036,  0.33715084,  0.33563015,  3.10475632,  0.33860392,\n",
       "         0.37065483,  0.33337667,  2.01000722,  0.33335558,  0.66470496,\n",
       "         1.31659225,  8.33609942,  0.33581438,  2.17083138,  5.3208666 ,\n",
       "         0.89401965, 21.41598031,  0.33338516,  0.34034726,  2.33325182,\n",
       "         0.66757605,  9.67769696,  3.33263393,  2.39374471,  3.56245057,\n",
       "         1.72775789,  0.33338836,  0.3333745 ,  0.33956942,  1.44363201,\n",
       "         1.33307676,  2.33325182,  1.33297565,  0.34537526,  3.58251329,\n",
       "         0.34842858,  0.33959428,  0.33729913,  1.32378529,  3.33066138,\n",
       "         1.33297658,  1.33199342,  0.33342189,  0.33335365,  1.33225177,\n",
       "         2.32926418,  6.55370852,  0.33729913,  0.33335558,  1.33180185,\n",
       "         1.33215727,  2.3334053 ,  1.13264602,  1.33298947,  0.33830651,\n",
       "         1.33311861,  3.64546813,  5.78733864,  9.75300564,  0.33956942,\n",
       "         3.33323684,  6.33117018,  2.33347443,  2.05854418,  0.34119439,\n",
       "         4.26216808,  1.13182611,  1.33207079,  2.33310432,  3.333244  ,\n",
       "         2.33323946,  5.33413559,  2.05890173,  6.33325055,  1.33042624,\n",
       "         4.14644559,  1.32685506,  9.63551608,  3.33066008,  0.34120702,\n",
       "         1.33155658,  1.72166074, 14.02280547,  1.33193691,  2.33160227,\n",
       "         1.32278182,  0.33336416,  4.25993434,  1.33334027,  1.38629752,\n",
       "         2.32013877,  2.33364944,  0.33338726,  1.73272504,  2.17106775,\n",
       "         0.33337106,  0.33860392,  1.6212374 ,  3.09484596,  3.13599707,\n",
       "         1.61569421,  6.33326183,  3.3306501 ,  9.33327061,  1.33297565,\n",
       "         1.33399736,  1.33392343, 12.27666121,  3.33261196,  4.33490847,\n",
       "         2.73147785,  2.11554259,  2.09612565,  1.33237582, 12.32884702,\n",
       "         7.33507294,  1.32378208,  3.63876015,  2.33325182,  6.35489816,\n",
       "         3.14190822,  0.33335596,  2.33165916,  1.33294921,  0.33335566,\n",
       "         0.33335245,  1.51476239,  1.3338535 ,  2.32925979,  2.32925979,\n",
       "        14.92400998,  1.59875159,  0.33338434,  1.33304892,  1.70716834,\n",
       "         0.33342686,  5.33994149, 12.3264378 ,  0.33337643,  6.3228527 ,\n",
       "         0.68809811,  3.33342864],\n",
       "       [ 1.33359817,  0.33336195,  0.33926187,  2.30947534,  1.55430767,\n",
       "         0.95356582,  0.3563621 ,  0.33926187,  3.16618387,  1.32990909,\n",
       "         0.3333711 ,  1.2494254 ,  0.33339302,  1.33178966,  0.33340491,\n",
       "         0.37461228,  3.04927656,  5.32857482,  0.60794844,  0.33338517,\n",
       "         0.33738483,  3.32931327,  1.24793449,  7.4583721 ,  1.33146615,\n",
       "         4.30130427,  0.33340146,  0.33723073,  1.51838411, 10.10026135,\n",
       "         1.33296547,  0.35636015,  0.33335826,  1.330955  ,  0.33340222,\n",
       "         0.44823646,  0.33464783,  0.33336066,  6.28404821,  0.33339637,\n",
       "         0.33594089,  3.32931742,  0.37452328,  3.33323688,  8.326605  ,\n",
       "         0.33335858,  0.3333579 ,  1.33405809,  0.44887358,  0.33344439,\n",
       "         2.25715325,  5.04208482,  0.43311395, 13.75964141,  0.40505836,\n",
       "         0.33336883,  0.33337577,  1.32963565,  1.29658875,  0.3334065 ,\n",
       "         1.3332658 ,  1.33162732,  1.33298079,  0.33337277,  0.33340103,\n",
       "         2.32701218,  1.53488699,  0.33338916, 11.3094735 ,  2.37665168,\n",
       "         1.24856099,  0.34227307,  3.07179543,  2.33262611,  2.32801413,\n",
       "         3.25497355,  6.33138428,  2.32704097,  2.33322731,  2.33478663,\n",
       "         5.14872186,  1.33312537,  1.32064742,  1.29061737,  1.32064747,\n",
       "         0.33738817,  0.33340756,  1.33324477,  0.40420608,  0.33340256,\n",
       "         2.30947523,  3.32932158,  1.24368736,  1.33361994,  0.37455787,\n",
       "         5.71920779,  1.33444016,  3.32992299,  7.20727302,  2.32704097,\n",
       "         1.34436156,  3.31564169,  1.33292001,  5.16634581,  0.33344439,\n",
       "         1.4563291 ,  0.33337204,  0.33929244,  1.15403273,  0.3334062 ,\n",
       "         1.29628404,  2.32831115,  2.33452049,  0.4212787 ,  0.33337713,\n",
       "         1.32064243,  2.32704096,  0.33339769,  2.31073819,  0.51655968,\n",
       "         0.33340185,  2.33242742,  0.33338119,  0.33335734,  4.93413943,\n",
       "         0.33335552,  1.33376222,  0.6563286 ,  3.94128486,  0.33738156,\n",
       "         1.3205664 ,  1.51684694,  3.33579846,  4.33504589,  0.33340383,\n",
       "         1.33345621,  1.33048   ,  1.39277521,  1.33312722,  0.33735971,\n",
       "         2.32704096,  0.33340488, 12.30426342,  4.22168738,  1.3318273 ,\n",
       "         1.29645119, 10.53430604,  0.33336608,  4.3303756 ,  0.94091544,\n",
       "         2.32802059, 12.32946651,  5.33099517,  2.56182673,  2.32801338,\n",
       "        10.29594616,  6.33254663,  0.65650453,  0.33335603,  3.99055367,\n",
       "         6.56040296,  2.33049499,  4.3308103 ,  2.49575282,  0.35323438,\n",
       "         2.77255685, 13.24788904,  3.33327803,  3.32469697,  0.33336831,\n",
       "         3.99898544,  8.82311804,  1.71363175,  6.27478408,  3.10605274,\n",
       "         0.93796917,  1.33191728,  2.30947682,  2.32704096,  6.22254844,\n",
       "         0.33338893,  0.33336831,  0.33339302,  1.31922691,  5.08402869,\n",
       "         1.41852693,  2.32712924,  3.32931742,  0.34227307,  0.33594804,\n",
       "         0.33338499,  0.33338891,  1.33178966,  0.33335585,  2.33428733,\n",
       "         0.3373576 ,  5.55607441,  3.32931742,  0.33335603,  2.33472936,\n",
       "         0.33338426,  0.33340505,  1.53388262,  0.33338885,  2.77848721,\n",
       "         1.33346931,  1.98996062,  4.28241748,  4.90662725,  2.32704097,\n",
       "         0.33337055,  4.30937117,  0.33339567,  0.60794676,  4.32323588,\n",
       "         0.4041756 ,  1.53474627,  1.33446119,  0.33339535,  0.33336766,\n",
       "         0.3333777 ,  0.37783534,  0.6076148 ,  0.33337074,  1.33256436,\n",
       "        13.50773659,  5.33971612,  6.20126648,  0.33595041,  4.31521766,\n",
       "         0.37455923,  0.94487262,  0.64373768,  0.33344557,  0.33338823,\n",
       "         1.33022943,  0.34568027,  2.40659386,  1.33324477,  4.28026414,\n",
       "         0.33340011,  1.33288413,  1.3319109 ,  0.93384279,  2.49622156,\n",
       "         0.35636279,  2.32801338,  4.04534102,  0.57169767,  0.52632315,\n",
       "         2.05084413,  0.33336403,  0.33594089,  0.33336028,  0.33339302,\n",
       "         1.33253022,  1.24895237,  0.40691866,  0.33338212,  0.3333837 ,\n",
       "         5.79897799,  3.03098184,  3.57045959,  1.33152149,  0.33777266,\n",
       "         5.33148507,  0.34226985,  2.02856556,  0.33336831,  4.30665103,\n",
       "         0.52465567,  0.33335916,  0.33341384,  1.33306302,  0.33335733,\n",
       "         0.33335577,  5.15179169,  1.2371125 ,  0.33735971,  0.33735971,\n",
       "        15.96042318,  1.46648853,  1.33194168,  1.33287203,  0.95474371,\n",
       "         1.33186899,  1.32657315,  1.73024844,  0.3747179 ,  9.34367185,\n",
       "         9.96052752,  0.33340574]])"
      ]
     },
     "execution_count": 769,
     "metadata": {},
     "output_type": "execute_result"
    }
   ],
   "source": [
    "LDA.components_"
   ]
  },
  {
   "cell_type": "code",
   "execution_count": 770,
   "metadata": {},
   "outputs": [],
   "source": [
    "single_topic = LDA.components_[0]"
   ]
  },
  {
   "cell_type": "code",
   "execution_count": 771,
   "metadata": {},
   "outputs": [
    {
     "data": {
      "text/plain": [
       "array([253,  37,   1, 147, 251,  97, 152, 162, 195,  76, 223, 150, 181,\n",
       "       169, 268, 264, 278, 279, 139,  56, 148,  91,  63,   2,   7,  74,\n",
       "       151, 246, 154, 220,  41, 187, 197,  10, 106, 122,  21,  17, 219,\n",
       "        19,  27, 228, 209,  99,  77, 116, 140, 178,  43, 189, 210,  55,\n",
       "        78, 155, 142,  85,  98,  39, 161, 134, 114, 252,  40, 205, 103,\n",
       "        60, 262, 238,  87, 163, 153,  67,  75,  54, 247,  66, 100, 165,\n",
       "         8, 216, 135, 226,   5,  88, 243,  47, 108, 270, 112, 239,   0,\n",
       "       170,   4, 265, 276, 149, 248, 232, 184, 194, 250, 126,  79, 241,\n",
       "       231, 217, 132,  96, 131, 199, 202,  93, 237, 255, 289, 222, 286,\n",
       "       157, 127,  18, 213,  23,  95, 229, 159, 225, 101, 290, 177,   3,\n",
       "       118,  90, 206,  38,  50,  11, 256,  70,  22,  92, 277,  53, 109,\n",
       "        44,  36, 173, 174, 259, 137, 107, 267, 244,  61, 111, 129, 212,\n",
       "       143, 291, 201,  52, 186,  20,  65, 138,  81, 218, 180, 203,  12,\n",
       "       254, 182, 190,  30, 215,  28, 102,  62, 188,  71, 266,  84,  82,\n",
       "       115, 273,  34,  59, 130, 283,  89, 121, 141,  64, 175,  48, 233,\n",
       "       110,  86, 285,  49, 104,  58, 145, 192,  13, 136, 263,  24, 260,\n",
       "        72, 281, 221, 288,  15,  94,  42, 230, 124,  46, 271, 274, 158,\n",
       "       198, 167, 179,  73,  26, 200, 191, 282, 176, 242, 133, 144, 272,\n",
       "       183,  14, 119,  57, 224, 249, 284, 171,  51,  25, 128, 287, 172,\n",
       "       105, 160, 113, 245,   6,  31,  45, 123, 258, 168, 234,  33, 117,\n",
       "       120, 204,  32, 125,  69, 214,   9, 269,  80,  83,  35, 280, 227,\n",
       "       257, 236,  68, 156, 208, 235, 211, 207, 146, 193, 240, 196,  29,\n",
       "        16, 185, 275, 261, 166, 164], dtype=int64)"
      ]
     },
     "execution_count": 771,
     "metadata": {},
     "output_type": "execute_result"
    }
   ],
   "source": [
    "single_topic.argsort()"
   ]
  },
  {
   "cell_type": "code",
   "execution_count": 772,
   "metadata": {},
   "outputs": [
    {
     "data": {
      "text/plain": [
       "array([193, 240, 196,  29,  16, 185, 275, 261, 166, 164], dtype=int64)"
      ]
     },
     "execution_count": 772,
     "metadata": {},
     "output_type": "execute_result"
    }
   ],
   "source": [
    "single_topic.argsort()[-10:]"
   ]
  },
  {
   "cell_type": "code",
   "execution_count": 773,
   "metadata": {},
   "outputs": [],
   "source": [
    "top_twenty_words = single_topic.argsort()[-20:]"
   ]
  },
  {
   "cell_type": "code",
   "execution_count": 774,
   "metadata": {},
   "outputs": [
    {
     "name": "stdout",
     "output_type": "stream",
     "text": [
      "result\n",
      "studi\n",
      "select\n",
      "data\n",
      "machin\n",
      "process\n",
      "search\n",
      "propos\n",
      "problem\n",
      "learn\n",
      "paramet\n",
      "set\n",
      "perform\n",
      "base\n",
      "algorithm\n",
      "optim\n",
      "tune\n",
      "techniqu\n",
      "model\n",
      "method\n"
     ]
    }
   ],
   "source": [
    "for index in top_twenty_words:\n",
    "    print(cv.get_feature_names()[index])"
   ]
  },
  {
   "cell_type": "code",
   "execution_count": 775,
   "metadata": {},
   "outputs": [],
   "source": [
    "#Grab the highest probability words per topic"
   ]
  },
  {
   "cell_type": "code",
   "execution_count": 776,
   "metadata": {},
   "outputs": [
    {
     "name": "stdout",
     "output_type": "stream",
     "text": [
      "THE TOP 15 WRODS FOR TOPIC # 0\n",
      "['process', 'search', 'propos', 'problem', 'learn', 'paramet', 'set', 'perform', 'base', 'algorithm', 'optim', 'tune', 'techniqu', 'model', 'method']\n",
      "\n",
      "\n",
      "\n",
      "\n",
      "THE TOP 15 WRODS FOR TOPIC # 1\n",
      "['evalu', 'analysi', 'speech', 'featur', 'result', 'network', 'process', 'studi', 'dataset', 'wa', 'text', 'data', 's', 'use', 'model']\n",
      "\n",
      "\n",
      "\n",
      "\n",
      "THE TOP 15 WRODS FOR TOPIC # 2\n",
      "['appli', 'circuit', 'network', 'word', 'work', 'base', 'lstm', 'learn', 'data', 'languag', 'log', 'model', 'research', 'comput', 'use']\n",
      "\n",
      "\n",
      "\n",
      "\n"
     ]
    }
   ],
   "source": [
    "for i, topic in enumerate(LDA.components_):\n",
    "    print(f\"THE TOP 15 WORDS FOR TOPIC # {i}\")\n",
    "    print([cv.get_feature_names()[index] for index in topic.argsort()[-15:]])\n",
    "    print('\\n')\n",
    "    print('\\n')"
   ]
  },
  {
   "cell_type": "code",
   "execution_count": 777,
   "metadata": {},
   "outputs": [
    {
     "data": {
      "text/plain": [
       "<18x292 sparse matrix of type '<class 'numpy.int64'>'\n",
       "\twith 969 stored elements in Compressed Sparse Row format>"
      ]
     },
     "execution_count": 777,
     "metadata": {},
     "output_type": "execute_result"
    }
   ],
   "source": [
    "dtm"
   ]
  },
  {
   "cell_type": "code",
   "execution_count": 778,
   "metadata": {},
   "outputs": [],
   "source": [
    "topic_results = LDA.transform(dtm)"
   ]
  },
  {
   "cell_type": "code",
   "execution_count": 779,
   "metadata": {},
   "outputs": [
    {
     "data": {
      "text/plain": [
       "array([[0.00533823, 0.99001889, 0.00464287],\n",
       "       [0.99184026, 0.00409742, 0.00406232],\n",
       "       [0.00337559, 0.00337378, 0.99325063],\n",
       "       [0.00412203, 0.00419528, 0.99168269],\n",
       "       [0.00402347, 0.86119689, 0.13477964],\n",
       "       [0.00290737, 0.99417335, 0.00291928],\n",
       "       [0.00630868, 0.98679733, 0.00689399],\n",
       "       [0.00505383, 0.9893807 , 0.00556548],\n",
       "       [0.00359785, 0.992775  , 0.00362715],\n",
       "       [0.00832688, 0.00851681, 0.98315632],\n",
       "       [0.00460482, 0.19918544, 0.79620974],\n",
       "       [0.00532184, 0.98934068, 0.00533748],\n",
       "       [0.37743834, 0.00449521, 0.61806644],\n",
       "       [0.00405949, 0.18163958, 0.81430092],\n",
       "       [0.99125817, 0.00430396, 0.00443787],\n",
       "       [0.9913387 , 0.00439204, 0.00426925],\n",
       "       [0.00393111, 0.00397038, 0.99209851],\n",
       "       [0.99136205, 0.0044471 , 0.00419085]])"
      ]
     },
     "execution_count": 779,
     "metadata": {},
     "output_type": "execute_result"
    }
   ],
   "source": [
    "topic_results"
   ]
  },
  {
   "cell_type": "code",
   "execution_count": 780,
   "metadata": {},
   "outputs": [
    {
     "data": {
      "text/plain": [
       "(18, 3)"
      ]
     },
     "execution_count": 780,
     "metadata": {},
     "output_type": "execute_result"
    }
   ],
   "source": [
    "topic_results.shape"
   ]
  },
  {
   "cell_type": "code",
   "execution_count": 781,
   "metadata": {},
   "outputs": [
    {
     "data": {
      "text/plain": [
       "array([0.01, 0.99, 0.  ])"
      ]
     },
     "execution_count": 781,
     "metadata": {},
     "output_type": "execute_result"
    }
   ],
   "source": [
    "topic_results[0].round(2)"
   ]
  },
  {
   "cell_type": "code",
   "execution_count": 782,
   "metadata": {},
   "outputs": [
    {
     "data": {
      "text/plain": [
       "'In the logistic management, the cost reduction for delivering the  goods to customer s is crucial to save the budget of the company . Since decades ago, various Vehicle Routing Problems (VRPs ) have been emerged enormously to improve the productivity and to reduce the logistic cost of the industry . Among them, Vehicle Routing Problem with Time Windows  (VRPTW ) is one of the most fundamental VRP variants and one of the most applicable variants in the real-world case studies. In this study , VRPTW with  hard time windows is solved  by developing a special Genetic Algorithm (GA), composed of a problem -specific crossover operator and seven different mutation operators. The proposed GA has better results with  the heuristic mutation among seven operators while exploring the new and better features in large search space. The results of the algorithm are tested on the popular Solomon benchmark 100 - customer datasets. The results show that the proposed GA is quite comparable  with the best - known solutions on the C set of Solomon benchmark and even better than the best -known solutions on the R and RC sets. The motivation behind this research is to find a new problem - specific configurations of GA for VRP TW domain which can have the desirable outputs that can be applied in most of the real -world use cases.'"
      ]
     },
     "execution_count": 782,
     "metadata": {},
     "output_type": "execute_result"
    }
   ],
   "source": [
    "data['document'][0]"
   ]
  },
  {
   "cell_type": "code",
   "execution_count": 783,
   "metadata": {},
   "outputs": [
    {
     "data": {
      "text/plain": [
       "1"
      ]
     },
     "execution_count": 783,
     "metadata": {},
     "output_type": "execute_result"
    }
   ],
   "source": [
    "topic_results[0].argmax()"
   ]
  },
  {
   "cell_type": "code",
   "execution_count": 784,
   "metadata": {},
   "outputs": [],
   "source": [
    "data['Topic'] = topic_results.argmax(axis=1)"
   ]
  },
  {
   "cell_type": "code",
   "execution_count": 785,
   "metadata": {},
   "outputs": [
    {
     "data": {
      "text/html": [
       "<div>\n",
       "<style scoped>\n",
       "    .dataframe tbody tr th:only-of-type {\n",
       "        vertical-align: middle;\n",
       "    }\n",
       "\n",
       "    .dataframe tbody tr th {\n",
       "        vertical-align: top;\n",
       "    }\n",
       "\n",
       "    .dataframe thead th {\n",
       "        text-align: right;\n",
       "    }\n",
       "</style>\n",
       "<table border=\"1\" class=\"dataframe\">\n",
       "  <thead>\n",
       "    <tr style=\"text-align: right;\">\n",
       "      <th></th>\n",
       "      <th>doc_id</th>\n",
       "      <th>document</th>\n",
       "      <th>Topic</th>\n",
       "    </tr>\n",
       "  </thead>\n",
       "  <tbody>\n",
       "    <tr>\n",
       "      <th>0</th>\n",
       "      <td>01</td>\n",
       "      <td>In the logistic management, the cost reduction...</td>\n",
       "      <td>1</td>\n",
       "    </tr>\n",
       "    <tr>\n",
       "      <th>1</th>\n",
       "      <td>02</td>\n",
       "      <td>Machine learning and predictive modeling have ...</td>\n",
       "      <td>0</td>\n",
       "    </tr>\n",
       "    <tr>\n",
       "      <th>2</th>\n",
       "      <td>03</td>\n",
       "      <td>Resource estimation is a technique that has ma...</td>\n",
       "      <td>2</td>\n",
       "    </tr>\n",
       "    <tr>\n",
       "      <th>3</th>\n",
       "      <td>04</td>\n",
       "      <td>Due to the emerging of Long Short-Term Memory ...</td>\n",
       "      <td>2</td>\n",
       "    </tr>\n",
       "    <tr>\n",
       "      <th>4</th>\n",
       "      <td>05</td>\n",
       "      <td>Since the spread of Coronavirus disease or Cov...</td>\n",
       "      <td>1</td>\n",
       "    </tr>\n",
       "    <tr>\n",
       "      <th>5</th>\n",
       "      <td>06</td>\n",
       "      <td>This thesis proposed a speech production acqui...</td>\n",
       "      <td>1</td>\n",
       "    </tr>\n",
       "    <tr>\n",
       "      <th>6</th>\n",
       "      <td>07</td>\n",
       "      <td>In recent studies, many NLP tasks could gain b...</td>\n",
       "      <td>1</td>\n",
       "    </tr>\n",
       "    <tr>\n",
       "      <th>7</th>\n",
       "      <td>08</td>\n",
       "      <td>The number of documents in a dataset available...</td>\n",
       "      <td>1</td>\n",
       "    </tr>\n",
       "    <tr>\n",
       "      <th>8</th>\n",
       "      <td>09</td>\n",
       "      <td>Understanding and interpretation of legislativ...</td>\n",
       "      <td>1</td>\n",
       "    </tr>\n",
       "    <tr>\n",
       "      <th>9</th>\n",
       "      <td>10</td>\n",
       "      <td>Word segmentation is an important pre-processi...</td>\n",
       "      <td>2</td>\n",
       "    </tr>\n",
       "    <tr>\n",
       "      <th>10</th>\n",
       "      <td>11</td>\n",
       "      <td>Loss estimation is considerably significant fo...</td>\n",
       "      <td>2</td>\n",
       "    </tr>\n",
       "    <tr>\n",
       "      <th>11</th>\n",
       "      <td>12</td>\n",
       "      <td>This thesis  presents a computational study on...</td>\n",
       "      <td>1</td>\n",
       "    </tr>\n",
       "    <tr>\n",
       "      <th>12</th>\n",
       "      <td>13</td>\n",
       "      <td>The financial problem is a challenging task fo...</td>\n",
       "      <td>2</td>\n",
       "    </tr>\n",
       "    <tr>\n",
       "      <th>13</th>\n",
       "      <td>14</td>\n",
       "      <td>Since a classical computer has a limitation to...</td>\n",
       "      <td>2</td>\n",
       "    </tr>\n",
       "    <tr>\n",
       "      <th>14</th>\n",
       "      <td>15</td>\n",
       "      <td>Hyperparameter Tuning chooses optimal hyperpar...</td>\n",
       "      <td>0</td>\n",
       "    </tr>\n",
       "    <tr>\n",
       "      <th>15</th>\n",
       "      <td>16</td>\n",
       "      <td>The honeybee is a social insect that communica...</td>\n",
       "      <td>0</td>\n",
       "    </tr>\n",
       "    <tr>\n",
       "      <th>16</th>\n",
       "      <td>17</td>\n",
       "      <td>System logs contain the complete information o...</td>\n",
       "      <td>2</td>\n",
       "    </tr>\n",
       "    <tr>\n",
       "      <th>17</th>\n",
       "      <td>18</td>\n",
       "      <td>Handling an imbalanced class problem is a chal...</td>\n",
       "      <td>0</td>\n",
       "    </tr>\n",
       "  </tbody>\n",
       "</table>\n",
       "</div>"
      ],
      "text/plain": [
       "   doc_id                                           document  Topic\n",
       "0      01  In the logistic management, the cost reduction...      1\n",
       "1      02  Machine learning and predictive modeling have ...      0\n",
       "2      03  Resource estimation is a technique that has ma...      2\n",
       "3      04  Due to the emerging of Long Short-Term Memory ...      2\n",
       "4      05  Since the spread of Coronavirus disease or Cov...      1\n",
       "5      06  This thesis proposed a speech production acqui...      1\n",
       "6      07  In recent studies, many NLP tasks could gain b...      1\n",
       "7      08  The number of documents in a dataset available...      1\n",
       "8      09  Understanding and interpretation of legislativ...      1\n",
       "9      10  Word segmentation is an important pre-processi...      2\n",
       "10     11  Loss estimation is considerably significant fo...      2\n",
       "11     12  This thesis  presents a computational study on...      1\n",
       "12     13  The financial problem is a challenging task fo...      2\n",
       "13     14  Since a classical computer has a limitation to...      2\n",
       "14     15  Hyperparameter Tuning chooses optimal hyperpar...      0\n",
       "15     16  The honeybee is a social insect that communica...      0\n",
       "16     17  System logs contain the complete information o...      2\n",
       "17     18  Handling an imbalanced class problem is a chal...      0"
      ]
     },
     "execution_count": 785,
     "metadata": {},
     "output_type": "execute_result"
    }
   ],
   "source": [
    "data"
   ]
  },
  {
   "cell_type": "code",
   "execution_count": 786,
   "metadata": {},
   "outputs": [],
   "source": [
    "keywords = ['artificial intelligence',\n",
    "            'genetic algorithm',\n",
    "            'deep learning',\n",
    "            'network resource planning',\n",
    "            'audio-synchronization',\n",
    "            'facial expression',\n",
    "            'deep learning',\n",
    "            'distributional reinforcement learning',\n",
    "            'quantum random walk',\n",
    "            'quantum computer simulator',\n",
    "            'hyperparameter tuning',\n",
    "            'random search',\n",
    "            'convolutional neural networks',\n",
    "            'feature extraction',\n",
    "            'alice',\n",
    "            'convolutional neural network',\n",
    "            'classification',\n",
    "            'probabilistic distribution',\n",
    "            'genetic algorithm',\n",
    "            'gradient boosting',\n",
    "            'alice',\n",
    "            'cern',\n",
    "            'deep learning',\n",
    "            'long short term memory',\n",
    "            'abstractive text summarization',\n",
    "            'covid-19',\n",
    "            'acoustic-to-articulatory inversion',\n",
    "            'deep learning',\n",
    "            'natural language processing',\n",
    "            'topic modeling',\n",
    "            'document mining',\n",
    "            'graph analysis',\n",
    "            'natural language processing']\n"
   ]
  },
  {
   "cell_type": "code",
   "execution_count": 787,
   "metadata": {},
   "outputs": [
    {
     "data": {
      "text/plain": [
       "33"
      ]
     },
     "execution_count": 787,
     "metadata": {},
     "output_type": "execute_result"
    }
   ],
   "source": [
    "len(keywords)"
   ]
  },
  {
   "cell_type": "code",
   "execution_count": 788,
   "metadata": {},
   "outputs": [
    {
     "data": {
      "text/plain": [
       "Counter({'artificial intelligence': 1,\n",
       "         'genetic algorithm': 2,\n",
       "         'deep learning': 4,\n",
       "         'network resource planning': 1,\n",
       "         'audio-synchronization': 1,\n",
       "         'facial expression': 1,\n",
       "         'distributional reinforcement learning': 1,\n",
       "         'quantum random walk': 1,\n",
       "         'quantum computer simulator': 1,\n",
       "         'hyperparameter tuning': 1,\n",
       "         'random search': 1,\n",
       "         'convolutional neural networks': 1,\n",
       "         'feature extraction': 1,\n",
       "         'alice': 2,\n",
       "         'convolutional neural network': 1,\n",
       "         'classification': 1,\n",
       "         'probabilistic distribution': 1,\n",
       "         'gradient boosting': 1,\n",
       "         'cern': 1,\n",
       "         'long short term memory': 1,\n",
       "         'abstractive text summarization': 1,\n",
       "         'covid-19': 1,\n",
       "         'acoustic-to-articulatory inversion': 1,\n",
       "         'natural language processing': 2,\n",
       "         'topic modeling': 1,\n",
       "         'document mining': 1,\n",
       "         'graph analysis': 1})"
      ]
     },
     "execution_count": 788,
     "metadata": {},
     "output_type": "execute_result"
    }
   ],
   "source": [
    "from collections import Counter\n",
    "c = Counter(keywords)\n",
    "c"
   ]
  },
  {
   "cell_type": "code",
   "execution_count": null,
   "metadata": {},
   "outputs": [],
   "source": []
  }
 ],
 "metadata": {
  "kernelspec": {
   "display_name": "Python 3.10.1 64-bit",
   "language": "python",
   "name": "python3"
  },
  "language_info": {
   "codemirror_mode": {
    "name": "ipython",
    "version": 3
   },
   "file_extension": ".py",
   "mimetype": "text/x-python",
   "name": "python",
   "nbconvert_exporter": "python",
   "pygments_lexer": "ipython3",
   "version": "3.10.1"
  },
  "orig_nbformat": 4,
  "vscode": {
   "interpreter": {
    "hash": "26de051ba29f2982a8de78e945f0abaf191376122a1563185a90213a26c5da77"
   }
  }
 },
 "nbformat": 4,
 "nbformat_minor": 2
}
